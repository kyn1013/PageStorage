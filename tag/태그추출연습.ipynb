{
 "cells": [
  {
   "cell_type": "code",
   "execution_count": 1,
   "id": "fd8e7c5c-7209-40c2-bb52-09c9c20e68d8",
   "metadata": {},
   "outputs": [
    {
     "name": "stdout",
     "output_type": "stream",
     "text": [
      "Collecting konlpy\n",
      "  Downloading konlpy-0.6.0-py2.py3-none-any.whl.metadata (1.9 kB)\n",
      "Collecting JPype1>=0.7.0 (from konlpy)\n",
      "  Downloading JPype1-1.5.0-cp311-cp311-macosx_10_9_universal2.whl.metadata (4.9 kB)\n",
      "Requirement already satisfied: lxml>=4.1.0 in /opt/anaconda3/lib/python3.11/site-packages (from konlpy) (4.9.3)\n",
      "Requirement already satisfied: numpy>=1.6 in /opt/anaconda3/lib/python3.11/site-packages (from konlpy) (1.26.4)\n",
      "Requirement already satisfied: packaging in /opt/anaconda3/lib/python3.11/site-packages (from JPype1>=0.7.0->konlpy) (23.1)\n",
      "Downloading konlpy-0.6.0-py2.py3-none-any.whl (19.4 MB)\n",
      "\u001b[2K   \u001b[90m━━━━━━━━━━━━━━━━━━━━━━━━━━━━━━━━━━━━━━━━\u001b[0m \u001b[32m19.4/19.4 MB\u001b[0m \u001b[31m2.5 MB/s\u001b[0m eta \u001b[36m0:00:00\u001b[0m00:01\u001b[0m00:01\u001b[0m\n",
      "\u001b[?25hDownloading JPype1-1.5.0-cp311-cp311-macosx_10_9_universal2.whl (587 kB)\n",
      "\u001b[2K   \u001b[90m━━━━━━━━━━━━━━━━━━━━━━━━━━━━━━━━━━━━━━━━\u001b[0m \u001b[32m587.4/587.4 kB\u001b[0m \u001b[31m1.6 MB/s\u001b[0m eta \u001b[36m0:00:00\u001b[0ma \u001b[36m0:00:01\u001b[0m\n",
      "\u001b[?25hInstalling collected packages: JPype1, konlpy\n",
      "Successfully installed JPype1-1.5.0 konlpy-0.6.0\n",
      "Note: you may need to restart the kernel to use updated packages.\n"
     ]
    }
   ],
   "source": [
    "pip install konlpy"
   ]
  },
  {
   "cell_type": "code",
   "execution_count": 26,
   "id": "4d545107-d9f4-4c9c-9e1b-d595f28e874a",
   "metadata": {},
   "outputs": [
    {
     "name": "stdout",
     "output_type": "stream",
     "text": [
      "추출된 명사들:\n",
      "['소나기', '소년', '소녀', '사랑', '소년', '소녀', '사랑', '어찌', '사랑', '나이', '하나', '사춘기', '시절', '풋사랑', '느낌', '소녀', '자신', '달라', '대목', '소녀', '추억', '부분', '소녀', '또한', '소년', '생각', '사랑', '간직', '작가', '비극', '결말', '우리', '슬픔', '우리', '슬픔', '아쉬움', '소년', '소녀', '사랑', '대해', '전하', '려고', '생각', '소년', '소녀', '소나기', '사랑', '얘기', '마치', '그때', '당시', '소나기', '상황', '가슴', '우리', '민족', '정서', '사랑', '마치', '여름밤', '어쩌면', '사랑', '마무리', '생각', '또한']\n"
     ]
    }
   ],
   "source": [
    "import networkx as nx\n",
    "from konlpy.tag import Okt\n",
    "from collections import defaultdict\n",
    "import numpy as np\n",
    "\n",
    "# 한국어 처리를 위한 형태소 분석기 초기화\n",
    "okt = Okt()\n",
    "\n",
    "# 문서 예시\n",
    "text = \"\"\"\n",
    "소나기를 읽은후 소년, 소녀의 사랑의 순수함을 느꼈다.\n",
    "\n",
    "소년과 소녀는 사랑이라고 말할 수 있을만큼 순수하고 아름다웠다\n",
    "\n",
    "어찌보면 사랑이라는게 어린 나이에 안어울리는 듯 하나﻿ \n",
    "\n",
    "사춘기 시절의 풋사랑같은 느낌이 들었다\n",
    "\n",
    "소녀는 죽기전 자신이 입었던 옷을 묻어달라고 하는 대목에서\n",
    "\n",
    "소녀의 추억을 가져가려 함이 엿보인다. 그 부분에선 소녀 또한 소년을 생각하고\n",
    "\n",
    "짧았지만 소중했던 사랑을 간직하려 한 것이다.\n",
    "\n",
    "작가는 비극적인 결말로 우리에게 슬픔을 주려한게 아니라\n",
    "\n",
    "읽는 우리로 하여금 슬픔보다는 아쉬움과 소년,소녀의 맑고 풋풋한 사랑에\n",
    "\n",
    "대해 전하려고 한게 아니었을까 생각된다.\n",
    "\n",
    "소년, 소녀의 소나기와 얽힌 사랑얘기는\n",
    "\n",
    "마치 그때 당시 소나기가 퍼붓는 상황에서도 이루지 못할 것을 알고도\n",
    "\n",
    "가슴에 품고 소중히 여기던 우리 민족의 정서와 닮은것 같다\n",
    "\n",
    "그들의 사랑은 마치 한여름밤의 꿈이 아닌가 싶다\n",
    "\n",
    "어쩌면 사랑이란 꿈처럼 달콤하지만 결국엔 마무리짓고 깨게 되는 것이 아닌가 싶은 생각도 들었다.\n",
    "\n",
    "꿈 또한 결국 잠에서 깰 때 깨게 되는 것처럼 말이다...\n",
    "\"\"\"\n",
    "\n",
    "# 형태소 분석을 통해 텍스트에서 명사 추출\n",
    "# 길이가 1보다 큰 명사만 리스트에 저장\n",
    "words = [word for word in okt.nouns(text) if len(word) > 1]\n",
    "\n",
    "# 추출한 명사 출력\n",
    "print(\"추출된 명사들:\")\n",
    "print(words)"
   ]
  },
  {
   "cell_type": "code",
   "execution_count": null,
   "id": "0529f11c-10a8-4865-a6b0-affe9f138407",
   "metadata": {},
   "outputs": [],
   "source": []
  },
  {
   "cell_type": "code",
   "execution_count": null,
   "id": "3da4eb57-2b40-433b-bd80-1e4937e4de50",
   "metadata": {},
   "outputs": [],
   "source": []
  },
  {
   "cell_type": "code",
   "execution_count": null,
   "id": "22373a98-fc39-451c-91d7-b5856efebf0e",
   "metadata": {},
   "outputs": [],
   "source": []
  },
  {
   "cell_type": "code",
   "execution_count": 27,
   "id": "82571a91-15a7-4da9-a89a-114c4140c127",
   "metadata": {},
   "outputs": [
    {
     "name": "stdout",
     "output_type": "stream",
     "text": [
      "소나기: 0.02564102564102563\n",
      "소년: 0.02564102564102563\n",
      "소녀: 0.02564102564102563\n",
      "사랑: 0.02564102564102563\n",
      "어찌: 0.02564102564102563\n"
     ]
    }
   ],
   "source": [
    "# 연결 그래프 생성\n",
    "graph = nx.Graph()\n",
    "for i in range(len(words)-1):\n",
    "    for j in range(i+1, len(words)):\n",
    "        if words[i] != words[j]:\n",
    "            graph.add_edge(words[i], words[j])\n",
    "\n",
    "# PageRank 알고리즘 적용\n",
    "scores = nx.pagerank(graph)\n",
    "\n",
    "# 점수 기준으로 내림차순 정렬하여 상위 키워드 출력\n",
    "sorted_scores = sorted(scores.items(), key=lambda x: x[1], reverse=True)\n",
    "for word, score in sorted_scores[:5]:  # 상위 3개 키워드\n",
    "    print(f\"{word}: {score}\")"
   ]
  },
  {
   "cell_type": "code",
   "execution_count": null,
   "id": "190f7f32-daf6-4a26-911d-bd77140d33dd",
   "metadata": {},
   "outputs": [],
   "source": []
  },
  {
   "cell_type": "code",
   "execution_count": null,
   "id": "b0403726-f569-4af9-ab60-a931daaa199b",
   "metadata": {},
   "outputs": [],
   "source": []
  },
  {
   "cell_type": "code",
   "execution_count": 28,
   "id": "a91a7338-3df4-45da-a7e4-ccbbe385943d",
   "metadata": {},
   "outputs": [
    {
     "name": "stdout",
     "output_type": "stream",
     "text": [
      "사랑: 0.10247178458023817\n",
      "소녀: 0.07051936027880788\n",
      "소년: 0.045238208480818325\n",
      "소나기: 0.03972863564319452\n",
      "생각: 0.038989500939463156\n"
     ]
    }
   ],
   "source": [
    "# 그래프 생성\n",
    "graph = nx.Graph()\n",
    "window_size = 2  # 윈도우 크기 조절\n",
    "\n",
    "for i in range(len(words) - window_size + 1):\n",
    "    for j in range(i+1, i + window_size):\n",
    "        if words[i] != words[j]:\n",
    "            graph.add_edge(words[i], words[j])\n",
    "\n",
    "# PageRank 계산\n",
    "scores = nx.pagerank(graph, alpha=0.85)  # damping factor 조절\n",
    "\n",
    "# 점수 내림차순으로 정렬\n",
    "sorted_scores = sorted(scores.items(), key=lambda x: x[1], reverse=True)\n",
    "\n",
    "# 상위 키워드 출력\n",
    "for word, score in sorted_scores[:5]:\n",
    "    print(f\"{word}: {score}\")"
   ]
  },
  {
   "cell_type": "code",
   "execution_count": null,
   "id": "658ab296-7900-4012-b687-69bb4e3e576a",
   "metadata": {},
   "outputs": [],
   "source": []
  },
  {
   "cell_type": "code",
   "execution_count": null,
   "id": "417fe63e-642b-4004-8394-66369bfffcfe",
   "metadata": {},
   "outputs": [],
   "source": []
  },
  {
   "cell_type": "code",
   "execution_count": null,
   "id": "b9294cc8-b436-4e24-85be-81caa9eb3d6a",
   "metadata": {},
   "outputs": [],
   "source": []
  },
  {
   "cell_type": "code",
   "execution_count": null,
   "id": "2fe1adb7-6e03-48b6-a766-e54978213719",
   "metadata": {},
   "outputs": [],
   "source": []
  },
  {
   "cell_type": "code",
   "execution_count": null,
   "id": "58261ddd-97fe-4e33-ac19-48d665066ce3",
   "metadata": {},
   "outputs": [],
   "source": []
  },
  {
   "cell_type": "code",
   "execution_count": null,
   "id": "b216e0ca-2c98-4f0f-8248-ec62aae7a52f",
   "metadata": {},
   "outputs": [],
   "source": []
  },
  {
   "cell_type": "code",
   "execution_count": null,
   "id": "1130f06a-c944-4ac5-aa0a-25f50ed951d7",
   "metadata": {},
   "outputs": [],
   "source": []
  },
  {
   "cell_type": "code",
   "execution_count": null,
   "id": "8e278875-3822-49c6-9784-2876565f536a",
   "metadata": {},
   "outputs": [],
   "source": []
  }
 ],
 "metadata": {
  "kernelspec": {
   "display_name": "Python 3 (ipykernel)",
   "language": "python",
   "name": "python3"
  },
  "language_info": {
   "codemirror_mode": {
    "name": "ipython",
    "version": 3
   },
   "file_extension": ".py",
   "mimetype": "text/x-python",
   "name": "python",
   "nbconvert_exporter": "python",
   "pygments_lexer": "ipython3",
   "version": "3.11.7"
  }
 },
 "nbformat": 4,
 "nbformat_minor": 5
}
